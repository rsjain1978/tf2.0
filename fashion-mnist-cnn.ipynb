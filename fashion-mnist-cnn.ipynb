{
 "cells": [
  {
   "cell_type": "code",
   "execution_count": 1,
   "metadata": {},
   "outputs": [],
   "source": [
    "import tensorflow as tf\n",
    "import numpy as np\n",
    "import pandas as pd"
   ]
  },
  {
   "cell_type": "code",
   "execution_count": 2,
   "metadata": {},
   "outputs": [
    {
     "name": "stdout",
     "output_type": "stream",
     "text": [
      "2.0.0-rc1\n"
     ]
    }
   ],
   "source": [
    "print (tf.__version__)"
   ]
  },
  {
   "cell_type": "code",
   "execution_count": 3,
   "metadata": {},
   "outputs": [],
   "source": [
    "from tensorflow.keras.datasets.fashion_mnist import load_data\n",
    "\n",
    "(x_train, y_train), (x_test, y_test) = load_data()"
   ]
  },
  {
   "cell_type": "code",
   "execution_count": 4,
   "metadata": {},
   "outputs": [
    {
     "name": "stdout",
     "output_type": "stream",
     "text": [
      "(60000, 28, 28)\n"
     ]
    }
   ],
   "source": [
    "#scale data\n",
    "x_train = x_train/255\n",
    "x_test = x_test/255\n",
    "print (x_train.shape)\n",
    "\n",
    "K = len(set(y_train))"
   ]
  },
  {
   "cell_type": "code",
   "execution_count": 5,
   "metadata": {},
   "outputs": [
    {
     "data": {
      "text/plain": [
       "(60000, 28, 28, 1)"
      ]
     },
     "execution_count": 5,
     "metadata": {},
     "output_type": "execute_result"
    }
   ],
   "source": [
    "x_train_f = np.expand_dims(x_train,-1)\n",
    "x_test_f = np.expand_dims(x_test,-1)\n",
    "x_train_f.shape"
   ]
  },
  {
   "cell_type": "code",
   "execution_count": 6,
   "metadata": {},
   "outputs": [
    {
     "data": {
      "text/plain": [
       "(60000,)"
      ]
     },
     "execution_count": 6,
     "metadata": {},
     "output_type": "execute_result"
    }
   ],
   "source": [
    "#y_train = y_train.reshape(-1,1)\n",
    "y_train.shape\n",
    "#y_train[0]"
   ]
  },
  {
   "cell_type": "code",
   "execution_count": 7,
   "metadata": {},
   "outputs": [],
   "source": [
    "from tensorflow.keras.layers import Input, Conv2D, Flatten, Dense, MaxPool2D\n",
    "from tensorflow.keras.models import Model"
   ]
  },
  {
   "cell_type": "code",
   "execution_count": 36,
   "metadata": {},
   "outputs": [
    {
     "name": "stdout",
     "output_type": "stream",
     "text": [
      "Model: \"model_6\"\n",
      "_________________________________________________________________\n",
      "Layer (type)                 Output Shape              Param #   \n",
      "=================================================================\n",
      "input_9 (InputLayer)         [(None, 28, 28, 1)]       0         \n",
      "_________________________________________________________________\n",
      "conv2d_25 (Conv2D)           (None, 14, 14, 16)        80        \n",
      "_________________________________________________________________\n",
      "conv2d_26 (Conv2D)           (None, 7, 7, 32)          2080      \n",
      "_________________________________________________________________\n",
      "conv2d_27 (Conv2D)           (None, 3, 3, 64)          8256      \n",
      "_________________________________________________________________\n",
      "max_pooling2d_12 (MaxPooling (None, 1, 1, 64)          0         \n",
      "_________________________________________________________________\n",
      "flatten_5 (Flatten)          (None, 64)                0         \n",
      "_________________________________________________________________\n",
      "dense_6 (Dense)              (None, 200)               13000     \n",
      "_________________________________________________________________\n",
      "dense_7 (Dense)              (None, 10)                2010      \n",
      "=================================================================\n",
      "Total params: 25,426\n",
      "Trainable params: 25,426\n",
      "Non-trainable params: 0\n",
      "_________________________________________________________________\n"
     ]
    }
   ],
   "source": [
    "i = Input(shape=x_train_f[0].shape)\n",
    "x = Conv2D(filters=8, kernel_size=(2,2), strides=2, activation='relu')(i)\n",
    "x = Conv2D(filters=16, kernel_size=(2,2), strides=2, activation='relu')(i)\n",
    "x = Conv2D(filters=32, kernel_size=(2,2), strides=2, activation='relu')(x)\n",
    "x = Conv2D(filters=64, kernel_size=(2,2), strides=2, activation='relu')(x)\n",
    "x = MaxPool2D(pool_size=(2,2))(x)\n",
    "x = Flatten()(x)\n",
    "x = Dense(200, activation='relu')(x)\n",
    "o = Dense(K, activation='softmax')(x)\n",
    "\n",
    "model = Model(i,o)\n",
    "model.summary()\n",
    "model.compile(optimizer='adam',loss='sparse_categorical_crossentropy',metrics=['accuracy'])"
   ]
  },
  {
   "cell_type": "code",
   "execution_count": 37,
   "metadata": {},
   "outputs": [
    {
     "name": "stdout",
     "output_type": "stream",
     "text": [
      "Train on 48000 samples, validate on 12000 samples\n",
      "Epoch 1/15\n",
      "48000/48000 [==============================] - 7s 145us/sample - loss: 0.7956 - accuracy: 0.7115 - val_loss: 0.6382 - val_accuracy: 0.7588\n",
      "Epoch 2/15\n",
      "48000/48000 [==============================] - 7s 140us/sample - loss: 0.5688 - accuracy: 0.7889 - val_loss: 0.5311 - val_accuracy: 0.8023\n",
      "Epoch 3/15\n",
      "48000/48000 [==============================] - 7s 136us/sample - loss: 0.5180 - accuracy: 0.8067 - val_loss: 0.4972 - val_accuracy: 0.8142\n",
      "Epoch 4/15\n",
      "48000/48000 [==============================] - 7s 140us/sample - loss: 0.4861 - accuracy: 0.8178 - val_loss: 0.4816 - val_accuracy: 0.8159\n",
      "Epoch 5/15\n",
      "48000/48000 [==============================] - 6s 133us/sample - loss: 0.4576 - accuracy: 0.8284 - val_loss: 0.4743 - val_accuracy: 0.8217\n",
      "Epoch 6/15\n",
      "48000/48000 [==============================] - 7s 140us/sample - loss: 0.4358 - accuracy: 0.8359 - val_loss: 0.4621 - val_accuracy: 0.8292\n",
      "Epoch 7/15\n",
      "48000/48000 [==============================] - 7s 142us/sample - loss: 0.4181 - accuracy: 0.8428 - val_loss: 0.4519 - val_accuracy: 0.8292\n",
      "Epoch 8/15\n",
      "48000/48000 [==============================] - 7s 153us/sample - loss: 0.3990 - accuracy: 0.8514 - val_loss: 0.4307 - val_accuracy: 0.8382\n",
      "Epoch 9/15\n",
      "48000/48000 [==============================] - 7s 147us/sample - loss: 0.3849 - accuracy: 0.8560 - val_loss: 0.4247 - val_accuracy: 0.8442\n",
      "Epoch 10/15\n",
      "48000/48000 [==============================] - 7s 149us/sample - loss: 0.3717 - accuracy: 0.8621 - val_loss: 0.4363 - val_accuracy: 0.8368\n",
      "Epoch 11/15\n",
      "48000/48000 [==============================] - 7s 140us/sample - loss: 0.3638 - accuracy: 0.8645 - val_loss: 0.4366 - val_accuracy: 0.8378\n",
      "Epoch 12/15\n",
      "48000/48000 [==============================] - 7s 144us/sample - loss: 0.3497 - accuracy: 0.8698 - val_loss: 0.4215 - val_accuracy: 0.8448\n",
      "Epoch 13/15\n",
      "48000/48000 [==============================] - 7s 145us/sample - loss: 0.3402 - accuracy: 0.8729 - val_loss: 0.4179 - val_accuracy: 0.8453\n",
      "Epoch 14/15\n",
      "48000/48000 [==============================] - 7s 136us/sample - loss: 0.3314 - accuracy: 0.8750 - val_loss: 0.4192 - val_accuracy: 0.8454\n",
      "Epoch 15/15\n",
      "48000/48000 [==============================] - 6s 132us/sample - loss: 0.3216 - accuracy: 0.8780 - val_loss: 0.4296 - val_accuracy: 0.8438\n"
     ]
    }
   ],
   "source": [
    "history = model.fit(x_train_f, y_train, epochs=15, validation_split=0.2)"
   ]
  },
  {
   "cell_type": "code",
   "execution_count": 30,
   "metadata": {},
   "outputs": [
    {
     "data": {
      "image/png": "[encoded data removed]",
      "text/plain": [
       "<Figure size 432x288 with 1 Axes>"
      ]
     },
     "metadata": {
      "needs_background": "light"
     },
     "output_type": "display_data"
    },
    {
     "name": "stdout",
     "output_type": "stream",
     "text": [
      "predicted label is: 8\n",
      "actual label is: 8\n"
     ]
    }
   ],
   "source": [
    "import matplotlib.pyplot as plt\n",
    "\n",
    "imgNum = np.random.randint(0,1000)\n",
    "plt.imshow(x_test_f[imgNum].reshape(28,28))\n",
    "plt.show()\n",
    "\n",
    "tstimg = x_test_f[imgNum].reshape(1,28,28,1)\n",
    "predlbl = model.predict(tstimg)\n",
    "print ('predicted label is:', predlbl.argmax())\n",
    "print ('actual label is:',y_test[imgNum])"
   ]
  },
  {
   "cell_type": "code",
   "execution_count": 12,
   "metadata": {},
   "outputs": [],
   "source": []
  },
  {
   "cell_type": "code",
   "execution_count": 14,
   "metadata": {},
   "outputs": [],
   "source": []
  },
  {
   "cell_type": "code",
   "execution_count": 16,
   "metadata": {},
   "outputs": [
    {
     "data": {
      "text/plain": [
       "9"
      ]
     },
     "execution_count": 16,
     "metadata": {},
     "output_type": "execute_result"
    }
   ],
   "source": []
  },
  {
   "cell_type": "code",
   "execution_count": 17,
   "metadata": {},
   "outputs": [
    {
     "data": {
      "text/plain": [
       "9"
      ]
     },
     "execution_count": 17,
     "metadata": {},
     "output_type": "execute_result"
    }
   ],
   "source": []
  },
  {
   "cell_type": "code",
   "execution_count": null,
   "metadata": {},
   "outputs": [],
   "source": []
  }
 ],
 "metadata": {
  "kernelspec": {
   "display_name": "Python 3",
   "language": "python",
   "name": "python3"
  },
  "language_info": {
   "codemirror_mode": {
    "name": "ipython",
    "version": 3
   },
   "file_extension": ".py",
   "mimetype": "text/x-python",
   "name": "python",
   "nbconvert_exporter": "python",
   "pygments_lexer": "ipython3",
   "version": "3.7.3"
  }
 },
 "nbformat": 4,
 "nbformat_minor": 2
}
