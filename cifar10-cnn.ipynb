{
 "cells": [
  {
   "cell_type": "code",
   "execution_count": 1,
   "metadata": {},
   "outputs": [],
   "source": [
    "import tensorflow as tf\n",
    "import numpy as np\n",
    "import pandas as pd"
   ]
  },
  {
   "cell_type": "code",
   "execution_count": 2,
   "metadata": {},
   "outputs": [
    {
     "name": "stdout",
     "output_type": "stream",
     "text": [
      "2.0.0-rc1\n"
     ]
    }
   ],
   "source": [
    "print (tf.__version__)"
   ]
  },
  {
   "cell_type": "code",
   "execution_count": 3,
   "metadata": {},
   "outputs": [],
   "source": [
    "from tensorflow.keras.datasets.cifar10 import load_data\n",
    "(x_train, y_train), (x_test, y_test) = load_data()"
   ]
  },
  {
   "cell_type": "code",
   "execution_count": 4,
   "metadata": {},
   "outputs": [
    {
     "name": "stdout",
     "output_type": "stream",
     "text": [
      "(50000, 32, 32, 3)\n",
      "10\n"
     ]
    }
   ],
   "source": [
    "x_train_scaled = x_train/255\n",
    "x_test_scaled = x_test/255\n",
    "print (x_train_scaled.shape)\n",
    "\n",
    "K = len(set(y_train.flatten()))\n",
    "print (K)"
   ]
  },
  {
   "cell_type": "code",
   "execution_count": 5,
   "metadata": {},
   "outputs": [],
   "source": [
    "from tensorflow.keras.layers import Input, Conv2D, Flatten, Dense, MaxPool2D, BatchNormalization\n",
    "from tensorflow.keras.models import Model"
   ]
  },
  {
   "cell_type": "code",
   "execution_count": 6,
   "metadata": {},
   "outputs": [
    {
     "name": "stdout",
     "output_type": "stream",
     "text": [
      "Model: \"model\"\n",
      "_________________________________________________________________\n",
      "Layer (type)                 Output Shape              Param #   \n",
      "=================================================================\n",
      "input_1 (InputLayer)         [(None, 32, 32, 3)]       0         \n",
      "_________________________________________________________________\n",
      "conv2d (Conv2D)              (None, 16, 16, 32)        416       \n",
      "_________________________________________________________________\n",
      "batch_normalization (BatchNo (None, 16, 16, 32)        128       \n",
      "_________________________________________________________________\n",
      "conv2d_1 (Conv2D)            (None, 8, 8, 64)          8256      \n",
      "_________________________________________________________________\n",
      "batch_normalization_1 (Batch (None, 8, 8, 64)          256       \n",
      "_________________________________________________________________\n",
      "conv2d_2 (Conv2D)            (None, 4, 4, 128)         32896     \n",
      "_________________________________________________________________\n",
      "batch_normalization_2 (Batch (None, 4, 4, 128)         512       \n",
      "_________________________________________________________________\n",
      "max_pooling2d (MaxPooling2D) (None, 2, 2, 128)         0         \n",
      "_________________________________________________________________\n",
      "flatten (Flatten)            (None, 512)               0         \n",
      "_________________________________________________________________\n",
      "dense (Dense)                (None, 200)               102600    \n",
      "_________________________________________________________________\n",
      "dense_1 (Dense)              (None, 10)                2010      \n",
      "=================================================================\n",
      "Total params: 147,074\n",
      "Trainable params: 146,626\n",
      "Non-trainable params: 448\n",
      "_________________________________________________________________\n"
     ]
    }
   ],
   "source": [
    "i = Input(shape=x_train_scaled[0].shape)\n",
    "x = Conv2D(filters=32, kernel_size=(2,2), strides=2, activation='relu')(i)\n",
    "x = BatchNormalization()(x)\n",
    "x = Conv2D(filters=64, kernel_size=(2,2), strides=2, activation='relu')(x)\n",
    "x = BatchNormalization()(x)\n",
    "x = Conv2D(filters=128, kernel_size=(2,2), strides=2, activation='relu')(x)\n",
    "x = BatchNormalization()(x)\n",
    "x = MaxPool2D(pool_size=(2,2))(x)\n",
    "x = Flatten()(x)\n",
    "x = Dense(200, activation='relu')(x)\n",
    "o = Dense(K, activation='softmax')(x)\n",
    "\n",
    "model = Model(i,o)\n",
    "model.summary()\n",
    "model.compile(optimizer='adam',loss='sparse_categorical_crossentropy',metrics=['accuracy'])"
   ]
  },
  {
   "cell_type": "code",
   "execution_count": 7,
   "metadata": {},
   "outputs": [
    {
     "name": "stdout",
     "output_type": "stream",
     "text": [
      "Train on 40000 samples, validate on 10000 samples\n",
      "Epoch 1/30\n",
      "40000/40000 [==============================] - 25s 623us/sample - loss: 1.5512 - accuracy: 0.4433 - val_loss: 1.3999 - val_accuracy: 0.4962\n",
      "Epoch 2/30\n",
      "40000/40000 [==============================] - 22s 561us/sample - loss: 1.2464 - accuracy: 0.5543 - val_loss: 1.2743 - val_accuracy: 0.5494\n",
      "Epoch 3/30\n",
      "40000/40000 [==============================] - 24s 608us/sample - loss: 1.1004 - accuracy: 0.6030 - val_loss: 1.1907 - val_accuracy: 0.5755\n",
      "Epoch 4/30\n",
      "40000/40000 [==============================] - 30s 749us/sample - loss: 0.9894 - accuracy: 0.6464 - val_loss: 1.2509 - val_accuracy: 0.5685\n",
      "Epoch 5/30\n",
      "40000/40000 [==============================] - 26s 645us/sample - loss: 0.8914 - accuracy: 0.6810 - val_loss: 1.1081 - val_accuracy: 0.6131\n",
      "Epoch 6/30\n",
      "40000/40000 [==============================] - 21s 533us/sample - loss: 0.8017 - accuracy: 0.7138 - val_loss: 1.1748 - val_accuracy: 0.5955\n",
      "Epoch 7/30\n",
      "40000/40000 [==============================] - 21s 523us/sample - loss: 0.7217 - accuracy: 0.7416 - val_loss: 1.1755 - val_accuracy: 0.6069\n",
      "Epoch 8/30\n",
      "40000/40000 [==============================] - 22s 541us/sample - loss: 0.6485 - accuracy: 0.7659 - val_loss: 1.2426 - val_accuracy: 0.6028\n",
      "Epoch 9/30\n",
      "40000/40000 [==============================] - 21s 529us/sample - loss: 0.5778 - accuracy: 0.7940 - val_loss: 1.3093 - val_accuracy: 0.5939\n",
      "Epoch 10/30\n",
      "40000/40000 [==============================] - 23s 567us/sample - loss: 0.5005 - accuracy: 0.8215 - val_loss: 1.3951 - val_accuracy: 0.6040\n",
      "Epoch 11/30\n",
      "40000/40000 [==============================] - 21s 523us/sample - loss: 0.4514 - accuracy: 0.8412 - val_loss: 1.4469 - val_accuracy: 0.6060\n",
      "Epoch 12/30\n",
      "40000/40000 [==============================] - 20s 502us/sample - loss: 0.3995 - accuracy: 0.8567 - val_loss: 1.5620 - val_accuracy: 0.6003\n",
      "Epoch 13/30\n",
      "40000/40000 [==============================] - 21s 521us/sample - loss: 0.3500 - accuracy: 0.8742 - val_loss: 1.7098 - val_accuracy: 0.5906\n",
      "Epoch 14/30\n",
      "40000/40000 [==============================] - 25s 616us/sample - loss: 0.3207 - accuracy: 0.8866 - val_loss: 1.7106 - val_accuracy: 0.6064\n",
      "Epoch 15/30\n",
      "40000/40000 [==============================] - 24s 596us/sample - loss: 0.2851 - accuracy: 0.8975 - val_loss: 1.8723 - val_accuracy: 0.5882\n",
      "Epoch 16/30\n",
      "40000/40000 [==============================] - 23s 568us/sample - loss: 0.2638 - accuracy: 0.9047 - val_loss: 1.8717 - val_accuracy: 0.6004\n",
      "Epoch 17/30\n",
      "40000/40000 [==============================] - 22s 549us/sample - loss: 0.2379 - accuracy: 0.9134 - val_loss: 1.9629 - val_accuracy: 0.6030\n",
      "Epoch 18/30\n",
      "40000/40000 [==============================] - 22s 557us/sample - loss: 0.2225 - accuracy: 0.9201 - val_loss: 2.0065 - val_accuracy: 0.6029\n",
      "Epoch 19/30\n",
      "40000/40000 [==============================] - 23s 573us/sample - loss: 0.2080 - accuracy: 0.9270 - val_loss: 2.1005 - val_accuracy: 0.5982\n",
      "Epoch 20/30\n",
      "40000/40000 [==============================] - 23s 567us/sample - loss: 0.1980 - accuracy: 0.9298 - val_loss: 2.1506 - val_accuracy: 0.6011\n",
      "Epoch 21/30\n",
      "40000/40000 [==============================] - 23s 587us/sample - loss: 0.1909 - accuracy: 0.9331 - val_loss: 2.2456 - val_accuracy: 0.6040\n",
      "Epoch 22/30\n",
      "40000/40000 [==============================] - 23s 586us/sample - loss: 0.1715 - accuracy: 0.9383 - val_loss: 2.3149 - val_accuracy: 0.5987\n",
      "Epoch 23/30\n",
      "40000/40000 [==============================] - 23s 568us/sample - loss: 0.1681 - accuracy: 0.9409 - val_loss: 2.3357 - val_accuracy: 0.5906\n",
      "Epoch 24/30\n",
      "40000/40000 [==============================] - 23s 565us/sample - loss: 0.1595 - accuracy: 0.9438 - val_loss: 2.4403 - val_accuracy: 0.6021\n",
      "Epoch 25/30\n",
      "40000/40000 [==============================] - 22s 560us/sample - loss: 0.1431 - accuracy: 0.9507 - val_loss: 2.6250 - val_accuracy: 0.5769\n",
      "Epoch 26/30\n",
      "40000/40000 [==============================] - 22s 547us/sample - loss: 0.1541 - accuracy: 0.9472 - val_loss: 2.7410 - val_accuracy: 0.5793\n",
      "Epoch 27/30\n",
      "40000/40000 [==============================] - 23s 570us/sample - loss: 0.1525 - accuracy: 0.9469 - val_loss: 2.5050 - val_accuracy: 0.5934\n",
      "Epoch 28/30\n",
      "40000/40000 [==============================] - 23s 568us/sample - loss: 0.1335 - accuracy: 0.9533 - val_loss: 2.6375 - val_accuracy: 0.5971\n",
      "Epoch 29/30\n",
      "40000/40000 [==============================] - 22s 559us/sample - loss: 0.1329 - accuracy: 0.9534 - val_loss: 2.5798 - val_accuracy: 0.5971\n",
      "Epoch 30/30\n",
      "40000/40000 [==============================] - 22s 557us/sample - loss: 0.1299 - accuracy: 0.9535 - val_loss: 2.6395 - val_accuracy: 0.6009\n"
     ]
    }
   ],
   "source": [
    "history = model.fit(x_train_scaled, y_train, epochs=30, validation_split=0.2)"
   ]
  },
  {
   "cell_type": "code",
   "execution_count": 9,
   "metadata": {},
   "outputs": [
    {
     "data": {
      "image/png": "[encoded data removed]",
      "text/plain": [
       "<Figure size 432x288 with 1 Axes>"
      ]
     },
     "metadata": {
      "needs_background": "light"
     },
     "output_type": "display_data"
    },
    {
     "name": "stdout",
     "output_type": "stream",
     "text": [
      "predicted label is: 2\n",
      "actual label is: [2]\n"
     ]
    }
   ],
   "source": [
    "import matplotlib.pyplot as plt\n",
    "\n",
    "imgNum = np.random.randint(0,1000)\n",
    "plt.imshow(x_test_scaled[imgNum])\n",
    "plt.show()\n",
    "\n",
    "tstimg = x_test_scaled[imgNum].reshape(1,32, 32, 3)\n",
    "predlbl = model.predict(tstimg)\n",
    "print ('predicted label is:', predlbl.argmax())\n",
    "print ('actual label is:',y_test[imgNum])"
   ]
  },
  {
   "cell_type": "code",
   "execution_count": null,
   "metadata": {},
   "outputs": [],
   "source": []
  }
 ],
 "metadata": {
  "kernelspec": {
   "display_name": "Python 3",
   "language": "python",
   "name": "python3"
  },
  "language_info": {
   "codemirror_mode": {
    "name": "ipython",
    "version": 3
   },
   "file_extension": ".py",
   "mimetype": "text/x-python",
   "name": "python",
   "nbconvert_exporter": "python",
   "pygments_lexer": "ipython3",
   "version": "3.7.3"
  }
 },
 "nbformat": 4,
 "nbformat_minor": 2
}
