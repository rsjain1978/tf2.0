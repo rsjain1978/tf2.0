{
 "cells": [
  {
   "cell_type": "code",
   "execution_count": 1,
   "metadata": {},
   "outputs": [],
   "source": [
    "import tensorflow as tf\n",
    "import numpy as np\n",
    "import pandas as pd"
   ]
  },
  {
   "cell_type": "code",
   "execution_count": 2,
   "metadata": {},
   "outputs": [
    {
     "name": "stdout",
     "output_type": "stream",
     "text": [
      "2.0.0-rc1\n"
     ]
    }
   ],
   "source": [
    "print (tf.__version__)"
   ]
  },
  {
   "cell_type": "code",
   "execution_count": 3,
   "metadata": {},
   "outputs": [
    {
     "name": "stdout",
     "output_type": "stream",
     "text": [
      "Downloading data from https://www.cs.toronto.edu/~kriz/cifar-10-python.tar.gz\n",
      "170500096/170498071 [==============================] - 407s 2us/step\n"
     ]
    }
   ],
   "source": [
    "from tensorflow.keras.datasets.cifar10 import load_data\n",
    "(x_train, y_train), (x_test, y_test) = load_data()"
   ]
  },
  {
   "cell_type": "code",
   "execution_count": 6,
   "metadata": {},
   "outputs": [
    {
     "name": "stdout",
     "output_type": "stream",
     "text": [
      "(50000, 32, 32, 3)\n",
      "10\n"
     ]
    }
   ],
   "source": [
    "x_train_scaled = x_train/255\n",
    "x_test_scaled = x_test/255\n",
    "print (x_train_scaled.shape)\n",
    "\n",
    "K = len(set(y_train.flatten()))\n",
    "print (K)"
   ]
  },
  {
   "cell_type": "code",
   "execution_count": 22,
   "metadata": {},
   "outputs": [],
   "source": [
    "from tensorflow.keras.layers import Input, Conv2D, Flatten, Dense, MaxPool2D, BatchNormalization\n",
    "from tensorflow.keras.models import Model"
   ]
  },
  {
   "cell_type": "code",
   "execution_count": 24,
   "metadata": {},
   "outputs": [
    {
     "name": "stdout",
     "output_type": "stream",
     "text": [
      "Model: \"model_1\"\n",
      "_________________________________________________________________\n",
      "Layer (type)                 Output Shape              Param #   \n",
      "=================================================================\n",
      "input_3 (InputLayer)         [(None, 32, 32, 3)]       0         \n",
      "_________________________________________________________________\n",
      "conv2d_5 (Conv2D)            (None, 16, 16, 32)        416       \n",
      "_________________________________________________________________\n",
      "batch_normalization_1 (Batch (None, 16, 16, 32)        128       \n",
      "_________________________________________________________________\n",
      "conv2d_6 (Conv2D)            (None, 8, 8, 64)          8256      \n",
      "_________________________________________________________________\n",
      "batch_normalization_2 (Batch (None, 8, 8, 64)          256       \n",
      "_________________________________________________________________\n",
      "conv2d_7 (Conv2D)            (None, 4, 4, 128)         32896     \n",
      "_________________________________________________________________\n",
      "batch_normalization_3 (Batch (None, 4, 4, 128)         512       \n",
      "_________________________________________________________________\n",
      "max_pooling2d_1 (MaxPooling2 (None, 2, 2, 128)         0         \n",
      "_________________________________________________________________\n",
      "flatten_1 (Flatten)          (None, 512)               0         \n",
      "_________________________________________________________________\n",
      "dense_2 (Dense)              (None, 200)               102600    \n",
      "_________________________________________________________________\n",
      "dense_3 (Dense)              (None, 10)                2010      \n",
      "=================================================================\n",
      "Total params: 147,074\n",
      "Trainable params: 146,626\n",
      "Non-trainable params: 448\n",
      "_________________________________________________________________\n"
     ]
    }
   ],
   "source": [
    "i = Input(shape=x_train_scaled[0].shape)\n",
    "x = Conv2D(filters=32, kernel_size=(2,2), strides=2, activation='relu')(i)\n",
    "x = BatchNormalization()(x)\n",
    "x = Conv2D(filters=64, kernel_size=(2,2), strides=2, activation='relu')(x)\n",
    "x = BatchNormalization()(x)\n",
    "x = Conv2D(filters=128, kernel_size=(2,2), strides=2, activation='relu')(x)\n",
    "x = BatchNormalization()(x)\n",
    "x = MaxPool2D(pool_size=(2,2))(x)\n",
    "x = Flatten()(x)\n",
    "x = Dense(200, activation='relu')(x)\n",
    "o = Dense(K, activation='softmax')(x)\n",
    "\n",
    "model = Model(i,o)\n",
    "model.summary()\n",
    "model.compile(optimizer='adam',loss='sparse_categorical_crossentropy',metrics=['accuracy'])"
   ]
  },
  {
   "cell_type": "code",
   "execution_count": 25,
   "metadata": {},
   "outputs": [
    {
     "name": "stdout",
     "output_type": "stream",
     "text": [
      "Train on 40000 samples, validate on 10000 samples\n",
      "Epoch 1/10\n",
      "40000/40000 [==============================] - 23s 585us/sample - loss: 1.5461 - accuracy: 0.4410 - val_loss: 1.3722 - val_accuracy: 0.5128\n",
      "Epoch 2/10\n",
      "40000/40000 [==============================] - 24s 593us/sample - loss: 1.2333 - accuracy: 0.5544 - val_loss: 1.3915 - val_accuracy: 0.5049\n",
      "Epoch 3/10\n",
      "40000/40000 [==============================] - 24s 601us/sample - loss: 1.0826 - accuracy: 0.6103 - val_loss: 1.1754 - val_accuracy: 0.5795\n",
      "Epoch 4/10\n",
      "40000/40000 [==============================] - 25s 624us/sample - loss: 0.9767 - accuracy: 0.6518 - val_loss: 1.1894 - val_accuracy: 0.5856\n",
      "Epoch 5/10\n",
      "40000/40000 [==============================] - 23s 568us/sample - loss: 0.8866 - accuracy: 0.6831 - val_loss: 1.1982 - val_accuracy: 0.5918\n",
      "Epoch 6/10\n",
      "40000/40000 [==============================] - 21s 528us/sample - loss: 0.7991 - accuracy: 0.7143 - val_loss: 1.1320 - val_accuracy: 0.6198\n",
      "Epoch 7/10\n",
      "40000/40000 [==============================] - 22s 547us/sample - loss: 0.7145 - accuracy: 0.7444 - val_loss: 1.1618 - val_accuracy: 0.6178\n",
      "Epoch 8/10\n",
      "40000/40000 [==============================] - 23s 578us/sample - loss: 0.6472 - accuracy: 0.7695 - val_loss: 1.2186 - val_accuracy: 0.6192\n",
      "Epoch 9/10\n",
      "40000/40000 [==============================] - 23s 565us/sample - loss: 0.5667 - accuracy: 0.7976 - val_loss: 1.3061 - val_accuracy: 0.6073\n",
      "Epoch 10/10\n",
      "40000/40000 [==============================] - 21s 514us/sample - loss: 0.5049 - accuracy: 0.8203 - val_loss: 1.3591 - val_accuracy: 0.6089\n"
     ]
    }
   ],
   "source": [
    "history = model.fit(x_train_scaled, y_train, epochs=10, validation_split=0.2)"
   ]
  },
  {
   "cell_type": "code",
   "execution_count": 30,
   "metadata": {},
   "outputs": [
    {
     "data": {
      "image/png": "[encoded data removed]",
      "text/plain": [
       "<Figure size 432x288 with 1 Axes>"
      ]
     },
     "metadata": {
      "needs_background": "light"
     },
     "output_type": "display_data"
    },
    {
     "name": "stdout",
     "output_type": "stream",
     "text": [
      "predicted label is: 3\n",
      "actual label is: [3]\n"
     ]
    }
   ],
   "source": [
    "import matplotlib.pyplot as plt\n",
    "\n",
    "imgNum = np.random.randint(0,1000)\n",
    "plt.imshow(x_test_scaled[imgNum])\n",
    "plt.show()\n",
    "\n",
    "tstimg = x_test_scaled[imgNum].reshape(1,32, 32, 3)\n",
    "predlbl = model.predict(tstimg)\n",
    "print ('predicted label is:', predlbl.argmax())\n",
    "print ('actual label is:',y_test[imgNum])"
   ]
  }
 ],
 "metadata": {
  "kernelspec": {
   "display_name": "Python 3",
   "language": "python",
   "name": "python3"
  },
  "language_info": {
   "codemirror_mode": {
    "name": "ipython",
    "version": 3
   },
   "file_extension": ".py",
   "mimetype": "text/x-python",
   "name": "python",
   "nbconvert_exporter": "python",
   "pygments_lexer": "ipython3",
   "version": "3.7.3"
  }
 },
 "nbformat": 4,
 "nbformat_minor": 2
}
